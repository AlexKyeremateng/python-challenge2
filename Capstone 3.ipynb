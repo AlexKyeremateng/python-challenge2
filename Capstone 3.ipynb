{
 "cells": [
  {
   "cell_type": "markdown",
   "id": "3b4fe9b8-4ca1-495b-be4a-f4f54349c6e8",
   "metadata": {},
   "source": [
    "## BUDGET DATA ANALYSIS"
   ]
  },
  {
   "cell_type": "code",
   "execution_count": 5,
   "id": "5c0c32ea-361f-4ecb-bc22-2f5969c53c37",
   "metadata": {},
   "outputs": [
    {
     "name": "stdout",
     "output_type": "stream",
     "text": [
      "Financial Analysis\n",
      "----------------------------\n",
      "Total Months: 86\n",
      "Net Total: $22564198\n",
      "Average Change: $-8311.11\n",
      "Greatest Increase in Profits: 16-Aug ($1862002)\n",
      "Greatest Decrease in Profits: 14-Feb ($-1825558)\n"
     ]
    }
   ],
   "source": [
    "# Define the file path\n",
    "import os\n",
    "import csv\n",
    "\n",
    "# Define the file path\n",
    "budget_data = r\"C:\\Data Analytics Course\\Capstone Projects\\Capstone 3\\Project 3\\Challenge 3 budget data.csv\"\n",
    "\n",
    "# Initialize variables\n",
    "total_months = 0\n",
    "net_total = 0\n",
    "previous_profit = 0\n",
    "profit_changes = []\n",
    "dates = []\n",
    "\n",
    "# Read the CSV file\n",
    "with open(budget_data, 'r') as file:\n",
    "    csvreader = csv.reader(file)\n",
    "    header = next(csvreader)  # Skip the header row\n",
    "\n",
    "    for row in csvreader:\n",
    "        date = row[0]\n",
    "        profit = int(row[1])\n",
    "\n",
    "        # Track total months and net total\n",
    "        total_months += 1\n",
    "        net_total += profit\n",
    "\n",
    "# Calculate profit change if not the first row\n",
    "        if total_months > 1:\n",
    "            profit_change = profit - previous_profit\n",
    "            profit_changes.append(profit_change)\n",
    "            dates.append(date)\n",
    "\n",
    " # Update previous profit\n",
    "        previous_profit = profit\n",
    "\n",
    "# Calculate average change, greatest increase, and decrease in profits\n",
    "average_change = sum(profit_changes) / len(profit_changes)\n",
    "greatest_increase = max(profit_changes)\n",
    "greatest_decrease = min(profit_changes)\n",
    "increase_date = dates[profit_changes.index(greatest_increase)]\n",
    "decrease_date = dates[profit_changes.index(greatest_decrease)]\n",
    "\n",
    "# Print results\n",
    "print(\"Financial Analysis\")\n",
    "print(\"----------------------------\")\n",
    "print(f\"Total Months: {total_months}\")\n",
    "print(f\"Net Total: ${net_total}\")\n",
    "print(f\"Average Change: ${average_change:.2f}\")\n",
    "print(f\"Greatest Increase in Profits: {increase_date} (${greatest_increase})\")\n",
    "print(f\"Greatest Decrease in Profits: {decrease_date} (${greatest_decrease})\")\n",
    "\n",
    "# Export results to a text file\n",
    "output_file = \"financial_analysis.txt\"\n",
    "with open(output_file, 'w') as textfile:\n",
    "    textfile.write(\"Financial Analysis\\n\")\n",
    "    textfile.write(\"----------------------------\\n\")\n",
    "    textfile.write(f\"Total Months: {total_months}\\n\")\n",
    "    textfile.write(f\"Net Total: ${net_total}\\n\")\n",
    "    textfile.write(f\"Average Change: ${average_change:.2f}\\n\")\n",
    "    textfile.write(f\"Greatest Increase in Profits: {increase_date} (${greatest_increase})\\n\")\n",
    "    textfile.write(f\"Greatest Decrease in Profits: {decrease_date} (${greatest_decrease})\\n\")"
   ]
  },
  {
   "cell_type": "markdown",
   "id": "43917a8c-9c30-4000-8fa5-52cf923d8644",
   "metadata": {},
   "source": [
    "## ELECTION DATA ANALYSIS"
   ]
  },
  {
   "cell_type": "code",
   "execution_count": 7,
   "id": "6fb0ad20-4a28-4b18-84ac-9de4ca88752e",
   "metadata": {},
   "outputs": [
    {
     "name": "stdout",
     "output_type": "stream",
     "text": [
      "Election Results\n",
      "-------------------------\n",
      "Total Votes: 369711\n",
      "-------------------------\n",
      "Charles Casper Stockham: 23.049% (85213)\n",
      "Diana DeGette: 73.812% (272892)\n",
      "Raymon Anthony Doane: 3.139% (11606)\n",
      "-------------------------\n",
      "Winner: Diana DeGette\n",
      "-------------------------\n"
     ]
    }
   ],
   "source": [
    "# Import necessary libraries\n",
    "import os\n",
    "import csv\n",
    "\n",
    "# Define the file path\n",
    "election_data = r\"C:\\Data Analytics Course\\Capstone Projects\\Capstone 3\\Project 3\\challenge 3 election_data.csv\"\n",
    "\n",
    "# Initialize variables\n",
    "total_votes = 0\n",
    "candidates = {}\n",
    "winner = \"\"\n",
    "winner_votes = 0\n",
    "\n",
    "# Read the CSV file\n",
    "with open(election_data, 'r') as file:\n",
    "    csvreader = csv.reader(file)\n",
    "    header = next(csvreader)  # Skip the header row\n",
    "\n",
    "    # Process each row\n",
    "    for row in csvreader:\n",
    "        total_votes += 1\n",
    "        candidate_name = row[2]\n",
    "\n",
    "        # Count votes per candidate\n",
    "        if candidate_name not in candidates:\n",
    "            candidates[candidate_name] = 0\n",
    "        candidates[candidate_name] += 1\n",
    "\n",
    "# Calculate each candidate's percentage of votes and find the winner\n",
    "print(\"Election Results\")\n",
    "print(\"-------------------------\")\n",
    "print(f\"Total Votes: {total_votes}\")\n",
    "print(\"-------------------------\")\n",
    "\n",
    "for candidate, votes in candidates.items():\n",
    "    percentage = (votes / total_votes) * 100\n",
    "    print(f\"{candidate}: {percentage:.3f}% ({votes})\")\n",
    "\n",
    "    if votes > winner_votes:\n",
    "        winner_votes = votes\n",
    "        winner = candidate\n",
    "\n",
    "print(\"-------------------------\")\n",
    "print(f\"Winner: {winner}\")\n",
    "print(\"-------------------------\")\n",
    "\n",
    "# Export results to a text file\n",
    "output_file = \"election_results.txt\"\n",
    "with open(output_file, 'w') as textfile:\n",
    "    textfile.write(\"Election Results\\n\")\n",
    "    textfile.write(\"-------------------------\\n\")\n",
    "    textfile.write(f\"Total Votes: {total_votes}\\n\")\n",
    "    textfile.write(\"-------------------------\\n\")\n",
    "    for candidate, votes in candidates.items():\n",
    "        percentage = (votes / total_votes) * 100\n",
    "        textfile.write(f\"{candidate}: {percentage:.3f}% ({votes})\\n\")\n",
    "    textfile.write(\"-------------------------\\n\")\n",
    "    textfile.write(f\"Winner: {winner}\\n\")\n",
    "    textfile.write(\"-------------------------\\n\")"
   ]
  },
  {
   "cell_type": "code",
   "execution_count": null,
   "id": "c2ee2371-5089-4e2f-b64a-d0a4f0fe5a85",
   "metadata": {},
   "outputs": [],
   "source": []
  }
 ],
 "metadata": {
  "kernelspec": {
   "display_name": "Python 3 (ipykernel)",
   "language": "python",
   "name": "python3"
  },
  "language_info": {
   "codemirror_mode": {
    "name": "ipython",
    "version": 3
   },
   "file_extension": ".py",
   "mimetype": "text/x-python",
   "name": "python",
   "nbconvert_exporter": "python",
   "pygments_lexer": "ipython3",
   "version": "3.12.4"
  }
 },
 "nbformat": 4,
 "nbformat_minor": 5
}
